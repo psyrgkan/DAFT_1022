def count_sheeps(sheep):
    cnt = 0
    for i in sheep:
        if i is not None:
            cnt += int(i)
    return cnt

def remove_every_other(my_list):
    toret = []
    for i in range(len(my_list)):
        if i%2 == 0:
            toret.append(my_list[i])
            
    return toret
