def count_sheeps(sheep):
    cnt = 0
    for i in sheep:
        if i is not None:
            cnt += int(i)
    return cnt
