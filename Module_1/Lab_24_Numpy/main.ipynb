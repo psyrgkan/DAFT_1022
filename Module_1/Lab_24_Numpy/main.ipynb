{
 "cells": [
  {
   "cell_type": "markdown",
   "metadata": {},
   "source": [
    "# Intrduction to NumPy\n",
    "\n",
    "\n",
    "#### 1. Import NumPy under the name np."
   ]
  },
  {
   "cell_type": "code",
   "execution_count": 1,
   "metadata": {},
   "outputs": [],
   "source": [
    "import numpy as np"
   ]
  },
  {
   "cell_type": "markdown",
   "metadata": {},
   "source": [
    "#### 2. Print your NumPy version."
   ]
  },
  {
   "cell_type": "code",
   "execution_count": 4,
   "metadata": {},
   "outputs": [
    {
     "name": "stdout",
     "output_type": "stream",
     "text": [
      "1.23.3\n"
     ]
    }
   ],
   "source": [
    "print(np.version.version)"
   ]
  },
  {
   "cell_type": "markdown",
   "metadata": {},
   "source": [
    "#### 3. Generate a 2x3x5 3-dimensional array with random values. Assign the array to variable *a*.\n",
    "**Challenge**: there are at least three easy ways that use numpy to generate random arrays. How many ways can you find?"
   ]
  },
  {
   "cell_type": "code",
   "execution_count": 9,
   "metadata": {},
   "outputs": [
    {
     "name": "stdout",
     "output_type": "stream",
     "text": [
      "[[[0.04158328 0.30404209 0.17106994 0.18998219 0.36955459]\n",
      "  [0.64140252 0.90548082 0.50345513 0.42331015 0.74620828]\n",
      "  [0.14431975 0.83650979 0.47298933 0.65881336 0.17124676]]\n",
      "\n",
      " [[0.30192558 0.71593055 0.34564263 0.69102249 0.21554546]\n",
      "  [0.17719755 0.728927   0.31074345 0.54561408 0.90974891]\n",
      "  [0.83995398 0.18536752 0.74878488 0.61457956 0.98922504]]]\n"
     ]
    }
   ],
   "source": [
    "a = np.random.random((2, 3, 5))\n",
    "print(a)"
   ]
  },
  {
   "cell_type": "code",
   "execution_count": 12,
   "metadata": {},
   "outputs": [
    {
     "name": "stdout",
     "output_type": "stream",
     "text": [
      "[[[ 3  3  1  2  1]\n",
      "  [ 1  1  1  4  3]\n",
      "  [ 1  3  7  2  6]]\n",
      "\n",
      " [[ 3  7  1  1  7]\n",
      "  [ 1  2  2  6 12]\n",
      "  [ 1  5  4  3  2]]]\n"
     ]
    }
   ],
   "source": [
    "a = np.random.geometric(0.3, (2,3,5))\n",
    "print(a)"
   ]
  },
  {
   "cell_type": "code",
   "execution_count": 13,
   "metadata": {},
   "outputs": [
    {
     "name": "stdout",
     "output_type": "stream",
     "text": [
      "[[[-3.39054207  0.43902423  1.52290991 -1.66055984 -0.91817071]\n",
      "  [ 2.08009951  1.0951844  -1.25396592  1.35300502  0.10886488]\n",
      "  [-1.12054416 -1.39234901 -3.99443444  0.34428662 -1.00673482]]\n",
      "\n",
      " [[-0.59449958  2.02518581 -0.15572694 -3.6291939  -1.46467535]\n",
      "  [-0.73100959  2.56401281  1.10001221  0.11469195  1.78917525]\n",
      "  [ 0.44636799 -0.74415495 -0.48470735 -0.0181308  -1.16732593]]]\n"
     ]
    }
   ],
   "source": [
    "a = np.random.logistic(0, 1, (2,3,5))\n",
    "print(a)"
   ]
  },
  {
   "cell_type": "markdown",
   "metadata": {},
   "source": [
    "#### 4. Print *a*.\n"
   ]
  },
  {
   "cell_type": "code",
   "execution_count": 14,
   "metadata": {},
   "outputs": [
    {
     "name": "stdout",
     "output_type": "stream",
     "text": [
      "[[[-3.39054207  0.43902423  1.52290991 -1.66055984 -0.91817071]\n",
      "  [ 2.08009951  1.0951844  -1.25396592  1.35300502  0.10886488]\n",
      "  [-1.12054416 -1.39234901 -3.99443444  0.34428662 -1.00673482]]\n",
      "\n",
      " [[-0.59449958  2.02518581 -0.15572694 -3.6291939  -1.46467535]\n",
      "  [-0.73100959  2.56401281  1.10001221  0.11469195  1.78917525]\n",
      "  [ 0.44636799 -0.74415495 -0.48470735 -0.0181308  -1.16732593]]]\n"
     ]
    }
   ],
   "source": [
    "print(a)"
   ]
  },
  {
   "cell_type": "markdown",
   "metadata": {},
   "source": [
    "#### 5. Create a 5x2x3 3-dimensional array with all values equaling 1. Assign the array to variable *b*."
   ]
  },
  {
   "cell_type": "code",
   "execution_count": 15,
   "metadata": {},
   "outputs": [],
   "source": [
    "b = np.ones((5,2,3))"
   ]
  },
  {
   "cell_type": "markdown",
   "metadata": {},
   "source": [
    "#### 6. Print *b*.\n"
   ]
  },
  {
   "cell_type": "code",
   "execution_count": 16,
   "metadata": {},
   "outputs": [
    {
     "name": "stdout",
     "output_type": "stream",
     "text": [
      "[[[1. 1. 1.]\n",
      "  [1. 1. 1.]]\n",
      "\n",
      " [[1. 1. 1.]\n",
      "  [1. 1. 1.]]\n",
      "\n",
      " [[1. 1. 1.]\n",
      "  [1. 1. 1.]]\n",
      "\n",
      " [[1. 1. 1.]\n",
      "  [1. 1. 1.]]\n",
      "\n",
      " [[1. 1. 1.]\n",
      "  [1. 1. 1.]]]\n"
     ]
    }
   ],
   "source": [
    "print(b)"
   ]
  },
  {
   "cell_type": "markdown",
   "metadata": {},
   "source": [
    "#### 7. Do *a* and *b* have the same size? How do you prove that in Python code?"
   ]
  },
  {
   "cell_type": "code",
   "execution_count": 17,
   "metadata": {},
   "outputs": [
    {
     "name": "stdout",
     "output_type": "stream",
     "text": [
      "False\n"
     ]
    }
   ],
   "source": [
    "print(a.shape == b.shape)"
   ]
  },
  {
   "cell_type": "markdown",
   "metadata": {},
   "source": [
    "#### 8. Are you able to add *a* and *b*? Why or why not?\n"
   ]
  },
  {
   "cell_type": "code",
   "execution_count": 18,
   "metadata": {},
   "outputs": [
    {
     "ename": "ValueError",
     "evalue": "operands could not be broadcast together with shapes (2,3,5) (5,2,3) ",
     "output_type": "error",
     "traceback": [
      "\u001b[0;31m---------------------------------------------------------------------------\u001b[0m",
      "\u001b[0;31mValueError\u001b[0m                                Traceback (most recent call last)",
      "\u001b[0;32m/var/folders/sk/rfg_lvqj5r5c204vs5zftlgw0000gn/T/ipykernel_23754/1083478837.py\u001b[0m in \u001b[0;36m<module>\u001b[0;34m\u001b[0m\n\u001b[0;32m----> 1\u001b[0;31m \u001b[0mprint\u001b[0m\u001b[0;34m(\u001b[0m\u001b[0ma\u001b[0m\u001b[0;34m+\u001b[0m\u001b[0mb\u001b[0m\u001b[0;34m)\u001b[0m\u001b[0;34m\u001b[0m\u001b[0;34m\u001b[0m\u001b[0m\n\u001b[0m",
      "\u001b[0;31mValueError\u001b[0m: operands could not be broadcast together with shapes (2,3,5) (5,2,3) "
     ]
    }
   ],
   "source": [
    "print(a+b)"
   ]
  },
  {
   "cell_type": "markdown",
   "metadata": {},
   "source": [
    "Cannot add since they dont have the same shape"
   ]
  },
  {
   "cell_type": "markdown",
   "metadata": {},
   "source": [
    "#### 9. Transpose *b* so that it has the same structure of *a* (i.e. become a 2x3x5 array). Assign the transposed array to variable *c*."
   ]
  },
  {
   "cell_type": "code",
   "execution_count": 31,
   "metadata": {},
   "outputs": [
    {
     "data": {
      "text/plain": [
       "(2, 3, 5)"
      ]
     },
     "execution_count": 31,
     "metadata": {},
     "output_type": "execute_result"
    }
   ],
   "source": [
    "c = np.transpose(b, (1, 2, 0))\n",
    "c.shape"
   ]
  },
  {
   "cell_type": "markdown",
   "metadata": {},
   "source": [
    "#### 10. Try to add *a* and *c*. Now it should work. Assign the sum to variable *d*. But why does it work now?"
   ]
  },
  {
   "cell_type": "code",
   "execution_count": 32,
   "metadata": {},
   "outputs": [],
   "source": [
    "d = a+c"
   ]
  },
  {
   "cell_type": "markdown",
   "metadata": {},
   "source": [
    "#### 11. Print *a* and *d*. Notice the difference and relation of the two array in terms of the values? Explain."
   ]
  },
  {
   "cell_type": "code",
   "execution_count": 34,
   "metadata": {},
   "outputs": [
    {
     "name": "stdout",
     "output_type": "stream",
     "text": [
      "[[[-3.39054207  0.43902423  1.52290991 -1.66055984 -0.91817071]\n",
      "  [ 2.08009951  1.0951844  -1.25396592  1.35300502  0.10886488]\n",
      "  [-1.12054416 -1.39234901 -3.99443444  0.34428662 -1.00673482]]\n",
      "\n",
      " [[-0.59449958  2.02518581 -0.15572694 -3.6291939  -1.46467535]\n",
      "  [-0.73100959  2.56401281  1.10001221  0.11469195  1.78917525]\n",
      "  [ 0.44636799 -0.74415495 -0.48470735 -0.0181308  -1.16732593]]]\n",
      "[[[-2.39054207  1.43902423  2.52290991 -0.66055984  0.08182929]\n",
      "  [ 3.08009951  2.0951844  -0.25396592  2.35300502  1.10886488]\n",
      "  [-0.12054416 -0.39234901 -2.99443444  1.34428662 -0.00673482]]\n",
      "\n",
      " [[ 0.40550042  3.02518581  0.84427306 -2.6291939  -0.46467535]\n",
      "  [ 0.26899041  3.56401281  2.10001221  1.11469195  2.78917525]\n",
      "  [ 1.44636799  0.25584505  0.51529265  0.9818692  -0.16732593]]]\n"
     ]
    }
   ],
   "source": [
    "print(a)\n",
    "print(d)"
   ]
  },
  {
   "cell_type": "markdown",
   "metadata": {},
   "source": [
    "d's elements are greater by 1 of a's"
   ]
  },
  {
   "cell_type": "markdown",
   "metadata": {},
   "source": [
    "#### 12. Multiply *a* and *c*. Assign the result to *e*."
   ]
  },
  {
   "cell_type": "code",
   "execution_count": 39,
   "metadata": {},
   "outputs": [],
   "source": [
    "e = np.multiply(a,c)"
   ]
  },
  {
   "cell_type": "markdown",
   "metadata": {},
   "source": [
    "#### 13. Does *e* equal to *a*? Why or why not?\n"
   ]
  },
  {
   "cell_type": "code",
   "execution_count": 45,
   "metadata": {},
   "outputs": [
    {
     "name": "stdout",
     "output_type": "stream",
     "text": [
      "True\n"
     ]
    }
   ],
   "source": [
    "print(np.array_equal(a,e)) "
   ]
  },
  {
   "cell_type": "markdown",
   "metadata": {},
   "source": [
    "Yes, they are equal since each element is simply multiplied by 1"
   ]
  },
  {
   "cell_type": "markdown",
   "metadata": {},
   "source": [
    "#### 14. Identify the max, min, and mean values in *d*. Assign those values to variables *d_max*, *d_min* and *d_mean*."
   ]
  },
  {
   "cell_type": "code",
   "execution_count": 48,
   "metadata": {},
   "outputs": [
    {
     "name": "stdout",
     "output_type": "stream",
     "text": [
      "3.5640128097024437 -2.994434437430417 0.7085365071590068\n"
     ]
    }
   ],
   "source": [
    "d_max = np.max(d)\n",
    "d_min = np.min(d)\n",
    "d_mean = np.mean(d)\n",
    "print(d_max, d_min, d_mean)"
   ]
  },
  {
   "cell_type": "markdown",
   "metadata": {},
   "source": [
    "#### 15. Now we want to label the values in *d*. First create an empty array *f* with the same shape (i.e. 2x3x5) as *d* using `np.empty`.\n"
   ]
  },
  {
   "cell_type": "code",
   "execution_count": 66,
   "metadata": {},
   "outputs": [],
   "source": [
    "f = np.empty((2,3,5))"
   ]
  },
  {
   "cell_type": "markdown",
   "metadata": {},
   "source": [
    "#### 16. Populate the values in *f*. \n",
    "\n",
    "For each value in *d*, if it's larger than *d_min* but smaller than *d_mean*, assign 25 to the corresponding value in *f*. If a value in *d* is larger than *d_mean* but smaller than *d_max*, assign 75 to the corresponding value in *f*. If a value equals to *d_mean*, assign 50 to the corresponding value in *f*. Assign 0 to the corresponding value(s) in *f* for *d_min* in *d*. Assign 100 to the corresponding value(s) in *f* for *d_max* in *d*. In the end, f should have only the following values: 0, 25, 50, 75, and 100.\n",
    "\n",
    "**Note**: you don't have to use Numpy in this question."
   ]
  },
  {
   "cell_type": "code",
   "execution_count": 73,
   "metadata": {},
   "outputs": [],
   "source": [
    "import time"
   ]
  },
  {
   "cell_type": "code",
   "execution_count": 77,
   "metadata": {},
   "outputs": [
    {
     "name": "stdout",
     "output_type": "stream",
     "text": [
      "[[[ 25  75  75  25  25]\n",
      "  [ 75  75  25  75  75]\n",
      "  [ 25  25   0  75  25]]\n",
      "\n",
      " [[ 25  75  75  25  25]\n",
      "  [ 25 100  75  75  75]\n",
      "  [ 75  25  25  75  25]]]\n"
     ]
    }
   ],
   "source": [
    "# start = time.time()\n",
    "f = np.where(d > d_min, np.where(d < d_mean, 25, np.where(d == d_mean, 50, np.where(d < d_max, 75, 100))), 0)\n",
    "# f\n",
    "# for i in range(len(d)):\n",
    "#     for j in range(len(d[0])):\n",
    "#         for k in range(len(d[0,0])):\n",
    "#             if d[i,j,k] == d_min:\n",
    "#                 f[i,j,k] = 0\n",
    "#             elif d[i,j,k] == d_max:\n",
    "#                 f[i,j,k] = 100\n",
    "#             elif d[i,j,k] == d_mean:\n",
    "#                 f[i,j,k] = 50\n",
    "#             elif d[i,j,k] < d_mean: \n",
    "#                 f[i,j,k] = 25\n",
    "#             elif d[i,j,k] > d_mean: \n",
    "#                 f[i,j,k] = 75\n",
    "# end = time.time()\n",
    "print(f)\n",
    "# print(end-start)"
   ]
  },
  {
   "cell_type": "markdown",
   "metadata": {},
   "source": [
    "#### 17. Print *d* and *f*. Do you have your expected *f*?\n",
    "For instance, if your *d* is:\n",
    "```python\n",
    "[[[1.85836099, 1.67064465, 1.62576044, 1.40243961, 1.88454931],\n",
    "[1.75354326, 1.69403643, 1.36729252, 1.61415071, 1.12104981],\n",
    "[1.72201435, 1.1862918 , 1.87078449, 1.7726778 , 1.88180042]],\n",
    "[[1.44747908, 1.31673383, 1.02000951, 1.52218947, 1.97066381],\n",
    "[1.79129243, 1.74983003, 1.96028037, 1.85166831, 1.65450881],\n",
    "[1.18068344, 1.9587381 , 1.00656599, 1.93402165, 1.73514584]]]\n",
    "```\n",
    "Your *f* should be:\n",
    "```python\n",
    "[[[ 75.,  75.,  75.,  25.,  75.],\n",
    "[ 75.,  75.,  25.,  25.,  25.],\n",
    "[ 75.,  25.,  75.,  75.,  75.]],\n",
    "[[ 25.,  25.,  25.,  25., 100.],\n",
    "[ 75.,  75.,  75.,  75.,  75.],\n",
    "[ 25.,  75.,   0.,  75.,  75.]]]\n",
    "```"
   ]
  },
  {
   "cell_type": "code",
   "execution_count": 63,
   "metadata": {},
   "outputs": [
    {
     "name": "stdout",
     "output_type": "stream",
     "text": [
      "-2.994434437430417 0.7085365071590068 3.5640128097024437\n",
      "[[[-2.39054207  1.43902423  2.52290991 -0.66055984  0.08182929]\n",
      "  [ 3.08009951  2.0951844  -0.25396592  2.35300502  1.10886488]\n",
      "  [-0.12054416 -0.39234901 -2.99443444  1.34428662 -0.00673482]]\n",
      "\n",
      " [[ 0.40550042  3.02518581  0.84427306 -2.6291939  -0.46467535]\n",
      "  [ 0.26899041  3.56401281  2.10001221  1.11469195  2.78917525]\n",
      "  [ 1.44636799  0.25584505  0.51529265  0.9818692  -0.16732593]]]\n",
      "[[[ 25  75  75  25  25]\n",
      "  [ 75  75  25  75  75]\n",
      "  [ 25  25   0  75  25]]\n",
      "\n",
      " [[ 25  75  75  25  25]\n",
      "  [ 25 100  75  75  75]\n",
      "  [ 75  25  25  75  25]]]\n"
     ]
    }
   ],
   "source": [
    "print(d_min, d_mean, d_max)\n",
    "print(d)\n",
    "print(f)"
   ]
  },
  {
   "cell_type": "markdown",
   "metadata": {},
   "source": [
    "#### 18. Bonus question: instead of using numbers (i.e. 0, 25, 50, 75, and 100), use string values  (\"A\", \"B\", \"C\", \"D\", and \"E\") to label the array elements. For the example above, the expected result is:\n",
    "\n",
    "```python\n",
    "[[[ 'D',  'D',  'D',  'B',  'D'],\n",
    "[ 'D',  'D',  'B',  'B',  'B'],\n",
    "[ 'D',  'B',  'D',  'D',  'D']],\n",
    "[[ 'B',  'B',  'B',  'B',  'E'],\n",
    "[ 'D',  'D',  'D',  'D',  'D'],\n",
    "[ 'B',  'D',   'A',  'D', 'D']]]\n",
    "```\n",
    "**Note**: you don't have to use Numpy in this question."
   ]
  },
  {
   "cell_type": "code",
   "execution_count": 67,
   "metadata": {},
   "outputs": [
    {
     "name": "stdout",
     "output_type": "stream",
     "text": [
      "[[['B' 'D' 'D' 'B' 'B']\n",
      "  ['D' 'D' 'B' 'D' 'D']\n",
      "  ['B' 'B' 'A' 'D' 'B']]\n",
      "\n",
      " [['B' 'D' 'D' 'B' 'B']\n",
      "  ['B' 'E' 'D' 'D' 'D']\n",
      "  ['D' 'B' 'B' 'D' 'B']]]\n"
     ]
    }
   ],
   "source": [
    "g = np.where(d > d_min, np.where(d < d_mean, \"B\", np.where(d == d_mean, \"C\", np.where(d < d_max, \"D\", \"E\"))), \"A\")\n",
    "print(g)"
   ]
  }
 ],
 "metadata": {
  "kernelspec": {
   "display_name": "Python 3.9.7 ('base')",
   "language": "python",
   "name": "python3"
  },
  "language_info": {
   "codemirror_mode": {
    "name": "ipython",
    "version": 3
   },
   "file_extension": ".py",
   "mimetype": "text/x-python",
   "name": "python",
   "nbconvert_exporter": "python",
   "pygments_lexer": "ipython3",
   "version": "3.9.7"
  },
  "vscode": {
   "interpreter": {
    "hash": "99c5b69d50627d74782850c6946c45f32f3e6468bb1e3868ad06512aa88f6ab5"
   }
  }
 },
 "nbformat": 4,
 "nbformat_minor": 2
}
