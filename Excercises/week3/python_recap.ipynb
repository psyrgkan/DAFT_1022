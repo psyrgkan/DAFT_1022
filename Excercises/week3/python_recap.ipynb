{
 "cells": [
  {
   "cell_type": "code",
   "execution_count": 1,
   "metadata": {},
   "outputs": [],
   "source": [
    "def countvowels(string):\n",
    "    num_vowels=0\n",
    "    for c in string.lower():\n",
    "        if c in \"aeiou\":\n",
    "           num_vowels += 1\n",
    "    return num_vowels"
   ]
  },
  {
   "cell_type": "code",
   "execution_count": 3,
   "metadata": {},
   "outputs": [
    {
     "data": {
      "text/plain": [
       "19"
      ]
     },
     "execution_count": 3,
     "metadata": {},
     "output_type": "execute_result"
    }
   ],
   "source": [
    "countvowels(\"and then what i did was go to the room and do some labs, wuuu!\")"
   ]
  }
 ],
 "metadata": {
  "kernelspec": {
   "display_name": "Python 3.9.7 ('base')",
   "language": "python",
   "name": "python3"
  },
  "language_info": {
   "codemirror_mode": {
    "name": "ipython",
    "version": 3
   },
   "file_extension": ".py",
   "mimetype": "text/x-python",
   "name": "python",
   "nbconvert_exporter": "python",
   "pygments_lexer": "ipython3",
   "version": "3.9.7"
  },
  "orig_nbformat": 4,
  "vscode": {
   "interpreter": {
    "hash": "99c5b69d50627d74782850c6946c45f32f3e6468bb1e3868ad06512aa88f6ab5"
   }
  }
 },
 "nbformat": 4,
 "nbformat_minor": 2
}
