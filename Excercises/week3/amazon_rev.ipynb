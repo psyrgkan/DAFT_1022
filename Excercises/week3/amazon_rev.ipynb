{
 "cells": [
  {
   "cell_type": "code",
   "execution_count": 1,
   "metadata": {},
   "outputs": [],
   "source": [
    "import requests\n",
    "from bs4 import BeautifulSoup\n",
    "import pandas as pd\n",
    "import re"
   ]
  },
  {
   "cell_type": "code",
   "execution_count": 3,
   "metadata": {},
   "outputs": [],
   "source": [
    "url = 'https://www.amazon.com/Apple-MacBook-16-inch-Storage-2-3GHz/product-reviews/B08HKQJ5D3/ref=cm_cr_getr_mb_paging_btm_3?ie=UTF8&reviewerType=all_reviews&pageNumber=3'"
   ]
  },
  {
   "cell_type": "code",
   "execution_count": 4,
   "metadata": {},
   "outputs": [
    {
     "name": "stdout",
     "output_type": "stream",
     "text": [
      "<!--\n",
      "        To discuss automated access to Amazon data please contact api-services-support@amazon.com.\n",
      "        For information about migrating to our APIs refer to our Marketplace APIs at https://developer.amazonservices.com/ref=rm_5_sv, or our Product Advertising API at https://affiliate-program.amazon.com/gp/advertising/api/detail/main.html/ref=rm_5_ac for advertising use cases.\n",
      "-->\n",
      "<!DOCTYPE html>\n",
      "<html>\n",
      " <head>\n",
      "  <meta charset=\"utf-8\"/>\n",
      "  <meta content=\"ie=edge\" http-equiv=\"x-ua-compatible\"/>\n",
      "  <meta content=\"width=device-width, initial-scale=1, shrink-to-fit=no\" name=\"viewport\"/>\n",
      "  <title>\n",
      "   Sorry! Something went wrong!\n",
      "  </title>\n",
      "  <style>\n",
      "   html, body {\n",
      "    padding: 0;\n",
      "    margin: 0\n",
      "  }\n",
      "\n",
      "  img {\n",
      "    border: 0\n",
      "  }\n",
      "\n",
      "  #a {\n",
      "    background: #232f3e;\n",
      "    padding: 11px 11px 11px 192px\n",
      "  }\n",
      "\n",
      "  #b {\n",
      "    position: absolute;\n",
      "    left: 22px;\n",
      "    top: 12px\n",
      "  }\n",
      "\n",
      "  #c {\n",
      "    position: relative;\n",
      "    max-width: 800px;\n",
      "    padding: 0 40px 0 0\n",
      "  }\n",
      "\n",
      "  #e, #f {\n",
      "    height: 35px;\n",
      "    border: 0;\n",
      "    font-size: 1em\n",
      "  }\n",
      "\n",
      "  #e {\n",
      "    width: 100%;\n",
      "    margin: 0;\n",
      "    padding: 0 10px;\n",
      "    border-radius: 4px 0 0 4px\n",
      "  }\n",
      "\n",
      "  #f {\n",
      "    cursor: pointer;\n",
      "    background: #febd69;\n",
      "    font-weight: bold;\n",
      "    border-radius: 0 4px 4px 0;\n",
      "    -webkit-appearance: none;\n",
      "    position: absolute;\n",
      "    top: 0;\n",
      "    right: 0;\n",
      "    padding: 0 12px\n",
      "  }\n",
      "\n",
      "  @media (max-width: 500px) {\n",
      "    #a {\n",
      "      padding: 55px 10px 10px\n",
      "    }\n",
      "\n",
      "    #b {\n",
      "      left: 6px\n",
      "    }\n",
      "  }\n",
      "\n",
      "  #g {\n",
      "    text-align: center;\n",
      "    margin: 30px 0\n",
      "  }\n",
      "\n",
      "  #g img {\n",
      "    max-width: 90%\n",
      "  }\n",
      "\n",
      "  #d {\n",
      "    display: none\n",
      "  }\n",
      "\n",
      "  #d[src] {\n",
      "    display: inline\n",
      "  }\n",
      "  </style>\n",
      " </head>\n",
      " <body>\n",
      "  <a href=\"/ref=cs_503_logo\">\n",
      "   <img alt=\"Amazon.com\" id=\"b\" src=\"https://images-na.ssl-images-amazon.com/images/G/01/error/logo._TTD_.png\"/>\n",
      "  </a>\n",
      "  <form accept-charset=\"utf-8\" action=\"/s\" id=\"a\" method=\"GET\" role=\"search\">\n",
      "   <div id=\"c\">\n",
      "    <input id=\"e\" name=\"field-keywords\" placeholder=\"Search\"/>\n",
      "    <input name=\"ref\" type=\"hidden\" value=\"cs_503_search\"/>\n",
      "    <input id=\"f\" type=\"submit\" value=\"Go\"/>\n",
      "   </div>\n",
      "  </form>\n",
      "  <div id=\"g\">\n",
      "   <div>\n",
      "    <a href=\"/ref=cs_503_link\">\n",
      "     <img alt=\"Sorry! Something went wrong on our end. Please go back and try again or go to Amazon's home page.\" src=\"https://images-na.ssl-images-amazon.com/images/G/01/error/500_503.png\"/>\n",
      "    </a>\n",
      "   </div>\n",
      "   <a href=\"/dogsofamazon/ref=cs_503_d\" rel=\"noopener noreferrer\" target=\"_blank\">\n",
      "    <img alt=\"Dogs of Amazon\" id=\"d\"/>\n",
      "   </a>\n",
      "   <script>\n",
      "    document.getElementById(\"d\").src = \"https://images-na.ssl-images-amazon.com/images/G/01/error/\" + (Math.floor(Math.random() * 43) + 1) + \"._TTD_.jpg\";\n",
      "   </script>\n",
      "  </div>\n",
      " </body>\n",
      "</html>\n",
      "\n"
     ]
    }
   ],
   "source": [
    "response = requests.get(url)\n",
    "soup = BeautifulSoup(response.text, 'html.parser')\n",
    "\n",
    "print(soup.prettify())"
   ]
  },
  {
   "cell_type": "code",
   "execution_count": 5,
   "metadata": {},
   "outputs": [],
   "source": [
    "res = soup.find_all(\"span\", class_=\"review-text-sub-contents\")"
   ]
  },
  {
   "cell_type": "code",
   "execution_count": 6,
   "metadata": {},
   "outputs": [
    {
     "name": "stdout",
     "output_type": "stream",
     "text": [
      "[]\n"
     ]
    }
   ],
   "source": [
    "print(res)"
   ]
  },
  {
   "cell_type": "code",
   "execution_count": null,
   "metadata": {},
   "outputs": [],
   "source": []
  }
 ],
 "metadata": {
  "kernelspec": {
   "display_name": "Python 3.9.7 ('base')",
   "language": "python",
   "name": "python3"
  },
  "language_info": {
   "codemirror_mode": {
    "name": "ipython",
    "version": 3
   },
   "file_extension": ".py",
   "mimetype": "text/x-python",
   "name": "python",
   "nbconvert_exporter": "python",
   "pygments_lexer": "ipython3",
   "version": "3.9.7"
  },
  "orig_nbformat": 4,
  "vscode": {
   "interpreter": {
    "hash": "99c5b69d50627d74782850c6946c45f32f3e6468bb1e3868ad06512aa88f6ab5"
   }
  }
 },
 "nbformat": 4,
 "nbformat_minor": 2
}
