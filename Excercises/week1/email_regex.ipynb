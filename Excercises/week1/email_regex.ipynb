{
 "cells": [
  {
   "cell_type": "code",
   "execution_count": 209,
   "metadata": {},
   "outputs": [],
   "source": [
    "import re\n",
    "with open('out_of_office.txt') as f:\n",
    "    str = f.read()"
   ]
  },
  {
   "cell_type": "code",
   "execution_count": 210,
   "metadata": {},
   "outputs": [],
   "source": [
    "email_reg = re.compile(r'\\w+@\\w+\\.(com|net|org|es|edu)')"
   ]
  },
  {
   "cell_type": "code",
   "execution_count": 215,
   "metadata": {},
   "outputs": [
    {
     "name": "stdout",
     "output_type": "stream",
     "text": [
      "['finance@adyen.com', 'hollydonahue@economist.com', 'tomamos@economist.com', 'jessicakeating@economist.com', 'paddycrowley@economist.com', 'stephaniesampiere@economist.com', 'Lauren@LaurenHackett.com']\n"
     ]
    }
   ],
   "source": [
    "matches = re.finditer(email_reg, str)\n",
    "list = [i.group(0) for i in matches]\n",
    "print(list)\n"
   ]
  }
 ],
 "metadata": {
  "kernelspec": {
   "display_name": "Python 3.9.7 ('base')",
   "language": "python",
   "name": "python3"
  },
  "language_info": {
   "codemirror_mode": {
    "name": "ipython",
    "version": 3
   },
   "file_extension": ".py",
   "mimetype": "text/x-python",
   "name": "python",
   "nbconvert_exporter": "python",
   "pygments_lexer": "ipython3",
   "version": "3.9.7"
  },
  "orig_nbformat": 4,
  "vscode": {
   "interpreter": {
    "hash": "99c5b69d50627d74782850c6946c45f32f3e6468bb1e3868ad06512aa88f6ab5"
   }
  }
 },
 "nbformat": 4,
 "nbformat_minor": 2
}
