{
 "cells": [
  {
   "cell_type": "code",
   "execution_count": 1,
   "id": "a30682d2-984e-456b-a312-50e74e66d4e8",
   "metadata": {},
   "outputs": [
    {
     "name": "stdin",
     "output_type": "stream",
     "text": [
      "Enter first int:  5\n",
      "Enter second int:  10\n"
     ]
    },
    {
     "name": "stdout",
     "output_type": "stream",
     "text": [
      "15\n"
     ]
    }
   ],
   "source": [
    "x = int(input(\"Enter first int: \"))\n",
    "\n",
    "y = int(input(\"Enter second int: \"))\n",
    "\n",
    "pro = x*y\n",
    "\n",
    "if pro > 1000:\n",
    "    toret = pro\n",
    "else:\n",
    "    toret = x+y\n",
    "    \n",
    "print(toret)"
   ]
  },
  {
   "cell_type": "code",
   "execution_count": null,
   "id": "f717eb14-771b-4747-b4c3-126126979804",
   "metadata": {},
   "outputs": [],
   "source": []
  }
 ],
 "metadata": {
  "kernelspec": {
   "display_name": "Python 3 (ipykernel)",
   "language": "python",
   "name": "python3"
  },
  "language_info": {
   "codemirror_mode": {
    "name": "ipython",
    "version": 3
   },
   "file_extension": ".py",
   "mimetype": "text/x-python",
   "name": "python",
   "nbconvert_exporter": "python",
   "pygments_lexer": "ipython3",
   "version": "3.9.7"
  },
  "toc-showcode": true
 },
 "nbformat": 4,
 "nbformat_minor": 5
}
