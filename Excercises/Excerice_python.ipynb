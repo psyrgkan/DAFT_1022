{
 "cells": [
  {
   "cell_type": "code",
   "execution_count": 1,
   "id": "a30682d2-984e-456b-a312-50e74e66d4e8",
   "metadata": {},
   "outputs": [
    {
     "name": "stdout",
     "output_type": "stream",
     "text": [
      "1015\n"
     ]
    }
   ],
   "source": [
    "x = int(input(\"Enter first int: \"))\n",
    "\n",
    "y = int(input(\"Enter second int: \"))\n",
    "\n",
    "pro = x*y\n",
    "\n",
    "if pro > 1000 and pro < 1500:\n",
    "    toret = pro\n",
    "else:\n",
    "    toret = x+y\n",
    "    \n",
    "print(toret)"
   ]
  },
  {
   "cell_type": "code",
   "execution_count": null,
   "id": "f717eb14-771b-4747-b4c3-126126979804",
   "metadata": {},
   "outputs": [],
   "source": []
  }
 ],
 "metadata": {
  "kernelspec": {
   "display_name": "Python 3.9.0 64-bit ('cs1410_env')",
   "language": "python",
   "name": "python3"
  },
  "language_info": {
   "codemirror_mode": {
    "name": "ipython",
    "version": 3
   },
   "file_extension": ".py",
   "mimetype": "text/x-python",
   "name": "python",
   "nbconvert_exporter": "python",
   "pygments_lexer": "ipython3",
   "version": "3.9.0"
  },
  "toc-showcode": true,
  "vscode": {
   "interpreter": {
    "hash": "2b80723a0212b31dcb718c3ae109b677d58d39cd503971bff1b183fd1cf103b4"
   }
  }
 },
 "nbformat": 4,
 "nbformat_minor": 5
}
