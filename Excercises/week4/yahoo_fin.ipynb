{
 "cells": [
  {
   "cell_type": "code",
   "execution_count": 30,
   "metadata": {},
   "outputs": [],
   "source": [
    "import pandas as pd\n",
    "import yfinance as yf\n",
    "import matplotlib.pyplot as plt\n",
    "import seaborn as sns"
   ]
  },
  {
   "cell_type": "code",
   "execution_count": 34,
   "metadata": {},
   "outputs": [],
   "source": [
    "apl = yf.Ticker(\"AAPL\").history(period='5y')"
   ]
  },
  {
   "cell_type": "code",
   "execution_count": 13,
   "metadata": {},
   "outputs": [],
   "source": [
    "tsl = yf.Ticker(\"TSLA\").history(period='5y')"
   ]
  },
  {
   "cell_type": "code",
   "execution_count": 15,
   "metadata": {},
   "outputs": [],
   "source": [
    "snp = yf.Ticker(\"^GSPC\").history(period='5y')"
   ]
  },
  {
   "cell_type": "code",
   "execution_count": 36,
   "metadata": {},
   "outputs": [
    {
     "data": {
      "text/html": [
       "<div>\n",
       "<style scoped>\n",
       "    .dataframe tbody tr th:only-of-type {\n",
       "        vertical-align: middle;\n",
       "    }\n",
       "\n",
       "    .dataframe tbody tr th {\n",
       "        vertical-align: top;\n",
       "    }\n",
       "\n",
       "    .dataframe thead th {\n",
       "        text-align: right;\n",
       "    }\n",
       "</style>\n",
       "<table border=\"1\" class=\"dataframe\">\n",
       "  <thead>\n",
       "    <tr style=\"text-align: right;\">\n",
       "      <th></th>\n",
       "      <th>Close</th>\n",
       "    </tr>\n",
       "    <tr>\n",
       "      <th>Date</th>\n",
       "      <th></th>\n",
       "    </tr>\n",
       "  </thead>\n",
       "  <tbody>\n",
       "    <tr>\n",
       "      <th>2017-11-03 00:00:00-04:00</th>\n",
       "      <td>2587.840088</td>\n",
       "    </tr>\n",
       "    <tr>\n",
       "      <th>2017-11-06 00:00:00-05:00</th>\n",
       "      <td>2591.129883</td>\n",
       "    </tr>\n",
       "    <tr>\n",
       "      <th>2017-11-07 00:00:00-05:00</th>\n",
       "      <td>2590.639893</td>\n",
       "    </tr>\n",
       "    <tr>\n",
       "      <th>2017-11-08 00:00:00-05:00</th>\n",
       "      <td>2594.379883</td>\n",
       "    </tr>\n",
       "    <tr>\n",
       "      <th>2017-11-09 00:00:00-05:00</th>\n",
       "      <td>2584.620117</td>\n",
       "    </tr>\n",
       "    <tr>\n",
       "      <th>...</th>\n",
       "      <td>...</td>\n",
       "    </tr>\n",
       "    <tr>\n",
       "      <th>2022-10-27 00:00:00-04:00</th>\n",
       "      <td>3807.300049</td>\n",
       "    </tr>\n",
       "    <tr>\n",
       "      <th>2022-10-28 00:00:00-04:00</th>\n",
       "      <td>3901.060059</td>\n",
       "    </tr>\n",
       "    <tr>\n",
       "      <th>2022-10-31 00:00:00-04:00</th>\n",
       "      <td>3871.979980</td>\n",
       "    </tr>\n",
       "    <tr>\n",
       "      <th>2022-11-01 00:00:00-04:00</th>\n",
       "      <td>3856.100098</td>\n",
       "    </tr>\n",
       "    <tr>\n",
       "      <th>2022-11-02 00:00:00-04:00</th>\n",
       "      <td>3759.689941</td>\n",
       "    </tr>\n",
       "  </tbody>\n",
       "</table>\n",
       "<p>1258 rows × 1 columns</p>\n",
       "</div>"
      ],
      "text/plain": [
       "                                 Close\n",
       "Date                                  \n",
       "2017-11-03 00:00:00-04:00  2587.840088\n",
       "2017-11-06 00:00:00-05:00  2591.129883\n",
       "2017-11-07 00:00:00-05:00  2590.639893\n",
       "2017-11-08 00:00:00-05:00  2594.379883\n",
       "2017-11-09 00:00:00-05:00  2584.620117\n",
       "...                                ...\n",
       "2022-10-27 00:00:00-04:00  3807.300049\n",
       "2022-10-28 00:00:00-04:00  3901.060059\n",
       "2022-10-31 00:00:00-04:00  3871.979980\n",
       "2022-11-01 00:00:00-04:00  3856.100098\n",
       "2022-11-02 00:00:00-04:00  3759.689941\n",
       "\n",
       "[1258 rows x 1 columns]"
      ]
     },
     "execution_count": 36,
     "metadata": {},
     "output_type": "execute_result"
    }
   ],
   "source": [
    "snpprice = snp[['Close']]\n",
    "snpprice"
   ]
  },
  {
   "cell_type": "code",
   "execution_count": 19,
   "metadata": {},
   "outputs": [],
   "source": [
    "tslprice = tsl[['Close']]"
   ]
  },
  {
   "cell_type": "code",
   "execution_count": 20,
   "metadata": {},
   "outputs": [],
   "source": [
    "aplprice = apl[['Close']]"
   ]
  },
  {
   "cell_type": "code",
   "execution_count": 54,
   "metadata": {},
   "outputs": [
    {
     "name": "stdout",
     "output_type": "stream",
     "text": [
      "[*********************100%***********************]  4 of 4 completed\n"
     ]
    }
   ],
   "source": [
    "tickers = ['^GSPC', 'pfe', 'rcl', 'tte.pa']\n",
    "\n",
    "df = yf.Tickers(tickers).download(ticker=tickers, period='5y')['Close']"
   ]
  },
  {
   "cell_type": "code",
   "execution_count": 55,
   "metadata": {},
   "outputs": [
    {
     "data": {
      "text/html": [
       "<div>\n",
       "<style scoped>\n",
       "    .dataframe tbody tr th:only-of-type {\n",
       "        vertical-align: middle;\n",
       "    }\n",
       "\n",
       "    .dataframe tbody tr th {\n",
       "        vertical-align: top;\n",
       "    }\n",
       "\n",
       "    .dataframe thead th {\n",
       "        text-align: right;\n",
       "    }\n",
       "</style>\n",
       "<table border=\"1\" class=\"dataframe\">\n",
       "  <thead>\n",
       "    <tr style=\"text-align: right;\">\n",
       "      <th></th>\n",
       "      <th>PFE</th>\n",
       "      <th>RCL</th>\n",
       "      <th>TTE.PA</th>\n",
       "      <th>^GSPC</th>\n",
       "    </tr>\n",
       "    <tr>\n",
       "      <th>Date</th>\n",
       "      <th></th>\n",
       "      <th></th>\n",
       "      <th></th>\n",
       "      <th></th>\n",
       "    </tr>\n",
       "  </thead>\n",
       "  <tbody>\n",
       "    <tr>\n",
       "      <th>2017-11-03</th>\n",
       "      <td>28.102236</td>\n",
       "      <td>115.771469</td>\n",
       "      <td>35.691753</td>\n",
       "      <td>2587.840088</td>\n",
       "    </tr>\n",
       "    <tr>\n",
       "      <th>2017-11-06</th>\n",
       "      <td>27.920418</td>\n",
       "      <td>117.801559</td>\n",
       "      <td>35.794838</td>\n",
       "      <td>2591.129883</td>\n",
       "    </tr>\n",
       "    <tr>\n",
       "      <th>2017-11-07</th>\n",
       "      <td>27.952047</td>\n",
       "      <td>121.457611</td>\n",
       "      <td>35.997314</td>\n",
       "      <td>2590.639893</td>\n",
       "    </tr>\n",
       "    <tr>\n",
       "      <th>2017-11-08</th>\n",
       "      <td>27.936232</td>\n",
       "      <td>121.166252</td>\n",
       "      <td>36.023087</td>\n",
       "      <td>2594.379883</td>\n",
       "    </tr>\n",
       "    <tr>\n",
       "      <th>2017-11-09</th>\n",
       "      <td>28.079819</td>\n",
       "      <td>119.051567</td>\n",
       "      <td>35.758015</td>\n",
       "      <td>2584.620117</td>\n",
       "    </tr>\n",
       "    <tr>\n",
       "      <th>...</th>\n",
       "      <td>...</td>\n",
       "      <td>...</td>\n",
       "      <td>...</td>\n",
       "      <td>...</td>\n",
       "    </tr>\n",
       "    <tr>\n",
       "      <th>2022-10-28</th>\n",
       "      <td>47.430000</td>\n",
       "      <td>52.669998</td>\n",
       "      <td>54.590000</td>\n",
       "      <td>3901.060059</td>\n",
       "    </tr>\n",
       "    <tr>\n",
       "      <th>2022-10-31</th>\n",
       "      <td>46.549999</td>\n",
       "      <td>53.380001</td>\n",
       "      <td>55.099998</td>\n",
       "      <td>3871.979980</td>\n",
       "    </tr>\n",
       "    <tr>\n",
       "      <th>2022-11-01</th>\n",
       "      <td>48.009998</td>\n",
       "      <td>51.980000</td>\n",
       "      <td>56.500000</td>\n",
       "      <td>3856.100098</td>\n",
       "    </tr>\n",
       "    <tr>\n",
       "      <th>2022-11-02</th>\n",
       "      <td>47.070000</td>\n",
       "      <td>49.660000</td>\n",
       "      <td>56.230000</td>\n",
       "      <td>3759.689941</td>\n",
       "    </tr>\n",
       "    <tr>\n",
       "      <th>2022-11-03</th>\n",
       "      <td>NaN</td>\n",
       "      <td>NaN</td>\n",
       "      <td>56.070000</td>\n",
       "      <td>NaN</td>\n",
       "    </tr>\n",
       "  </tbody>\n",
       "</table>\n",
       "<p>1293 rows × 4 columns</p>\n",
       "</div>"
      ],
      "text/plain": [
       "                  PFE         RCL     TTE.PA        ^GSPC\n",
       "Date                                                     \n",
       "2017-11-03  28.102236  115.771469  35.691753  2587.840088\n",
       "2017-11-06  27.920418  117.801559  35.794838  2591.129883\n",
       "2017-11-07  27.952047  121.457611  35.997314  2590.639893\n",
       "2017-11-08  27.936232  121.166252  36.023087  2594.379883\n",
       "2017-11-09  28.079819  119.051567  35.758015  2584.620117\n",
       "...               ...         ...        ...          ...\n",
       "2022-10-28  47.430000   52.669998  54.590000  3901.060059\n",
       "2022-10-31  46.549999   53.380001  55.099998  3871.979980\n",
       "2022-11-01  48.009998   51.980000  56.500000  3856.100098\n",
       "2022-11-02  47.070000   49.660000  56.230000  3759.689941\n",
       "2022-11-03        NaN         NaN  56.070000          NaN\n",
       "\n",
       "[1293 rows x 4 columns]"
      ]
     },
     "execution_count": 55,
     "metadata": {},
     "output_type": "execute_result"
    }
   ],
   "source": [
    "df"
   ]
  },
  {
   "cell_type": "code",
   "execution_count": 56,
   "metadata": {},
   "outputs": [
    {
     "data": {
      "text/html": [
       "<div>\n",
       "<style scoped>\n",
       "    .dataframe tbody tr th:only-of-type {\n",
       "        vertical-align: middle;\n",
       "    }\n",
       "\n",
       "    .dataframe tbody tr th {\n",
       "        vertical-align: top;\n",
       "    }\n",
       "\n",
       "    .dataframe thead th {\n",
       "        text-align: right;\n",
       "    }\n",
       "</style>\n",
       "<table border=\"1\" class=\"dataframe\">\n",
       "  <thead>\n",
       "    <tr style=\"text-align: right;\">\n",
       "      <th></th>\n",
       "      <th>PFE</th>\n",
       "      <th>RCL</th>\n",
       "      <th>TTE.PA</th>\n",
       "      <th>^GSPC</th>\n",
       "    </tr>\n",
       "  </thead>\n",
       "  <tbody>\n",
       "    <tr>\n",
       "      <th>PFE</th>\n",
       "      <td>1.000000</td>\n",
       "      <td>-0.343228</td>\n",
       "      <td>0.570703</td>\n",
       "      <td>0.729075</td>\n",
       "    </tr>\n",
       "    <tr>\n",
       "      <th>RCL</th>\n",
       "      <td>-0.343228</td>\n",
       "      <td>1.000000</td>\n",
       "      <td>0.104094</td>\n",
       "      <td>-0.484433</td>\n",
       "    </tr>\n",
       "    <tr>\n",
       "      <th>TTE.PA</th>\n",
       "      <td>0.570703</td>\n",
       "      <td>0.104094</td>\n",
       "      <td>1.000000</td>\n",
       "      <td>0.245543</td>\n",
       "    </tr>\n",
       "    <tr>\n",
       "      <th>^GSPC</th>\n",
       "      <td>0.729075</td>\n",
       "      <td>-0.484433</td>\n",
       "      <td>0.245543</td>\n",
       "      <td>1.000000</td>\n",
       "    </tr>\n",
       "  </tbody>\n",
       "</table>\n",
       "</div>"
      ],
      "text/plain": [
       "             PFE       RCL    TTE.PA     ^GSPC\n",
       "PFE     1.000000 -0.343228  0.570703  0.729075\n",
       "RCL    -0.343228  1.000000  0.104094 -0.484433\n",
       "TTE.PA  0.570703  0.104094  1.000000  0.245543\n",
       "^GSPC   0.729075 -0.484433  0.245543  1.000000"
      ]
     },
     "execution_count": 56,
     "metadata": {},
     "output_type": "execute_result"
    }
   ],
   "source": [
    "df.corr(method='spearman')"
   ]
  },
  {
   "cell_type": "code",
   "execution_count": 57,
   "metadata": {},
   "outputs": [
    {
     "data": {
      "image/png": "[encoded data removed]",
      "text/plain": [
       "<Figure size 432x288 with 2 Axes>"
      ]
     },
     "metadata": {
      "needs_background": "light"
     },
     "output_type": "display_data"
    }
   ],
   "source": [
    "cmap = sns.diverging_palette(230, 20, as_cmap=True)\n",
    "\n",
    "sns.heatmap(\n",
    "        data=df.corr(method='spearman'),  # our correlation matrix\n",
    "        linewidths=0.3,  # the width of lines separating the matrix squares\n",
    "        square=True,   # enforce 1:1 ratios among correlation cells\n",
    "        cmap=cmap,  # use the color map we defined above\n",
    "        vmax=1,  # define the max of our correlation scale\n",
    "        vmin=-1, # define the min of our correlation scale\n",
    "        center=0,  # The value at which the color map is centered about (white)\n",
    "        cbar_kws={\"shrink\": .75}  # shrink the scale a bit\n",
    "    )\n",
    "# adjust y-axis ticks for legibility\n",
    "plt.yticks(rotation=0)  \n",
    "# show the heatmap\n",
    "plt.show()\n"
   ]
  },
  {
   "cell_type": "code",
   "execution_count": null,
   "metadata": {},
   "outputs": [],
   "source": []
  }
 ],
 "metadata": {
  "kernelspec": {
   "display_name": "Python 3.9.7 ('base')",
   "language": "python",
   "name": "python3"
  },
  "language_info": {
   "codemirror_mode": {
    "name": "ipython",
    "version": 3
   },
   "file_extension": ".py",
   "mimetype": "text/x-python",
   "name": "python",
   "nbconvert_exporter": "python",
   "pygments_lexer": "ipython3",
   "version": "3.9.7"
  },
  "orig_nbformat": 4,
  "vscode": {
   "interpreter": {
    "hash": "99c5b69d50627d74782850c6946c45f32f3e6468bb1e3868ad06512aa88f6ab5"
   }
  }
 },
 "nbformat": 4,
 "nbformat_minor": 2
}
