{
 "cells": [
  {
   "cell_type": "code",
   "execution_count": 1,
   "metadata": {},
   "outputs": [],
   "source": [
    "from sklearn.datasets import load_iris"
   ]
  },
  {
   "cell_type": "code",
   "execution_count": 7,
   "metadata": {},
   "outputs": [],
   "source": [
    "import numpy as np\n",
    "import pandas as pd"
   ]
  },
  {
   "cell_type": "code",
   "execution_count": 2,
   "metadata": {},
   "outputs": [],
   "source": [
    "from sklearn.cluster import KMeans\n",
    "from sklearn.cluster import DBSCAN\n",
    "from sklearn.cluster import AgglomerativeClustering\n",
    "from sklearn import metrics"
   ]
  },
  {
   "cell_type": "code",
   "execution_count": 21,
   "metadata": {},
   "outputs": [],
   "source": [
    "def evaluation(X, y_true, y_label, n_clusters):\n",
    "    print(\"Estimated number of clusters: %d\" % n_clusters)\n",
    "    print(\"Homogeneity: %0.3f\" % metrics.homogeneity_score(y_true, y_label))\n",
    "    print(\"Completeness: %0.3f\" % metrics.completeness_score(y_true, y_label))\n",
    "    print(\"V-measure: %0.3f\" % metrics.v_measure_score(y_true, y_label))\n",
    "    print(\"Adjusted Rand Index: %0.3f\" % metrics.adjusted_rand_score(y_true, y_label))\n",
    "    print(\n",
    "        \"Adjusted Mutual Information: %0.3f\"\n",
    "        % metrics.adjusted_mutual_info_score(y_true, y_label))\n",
    "    print(    \"Silhouette Coefficient: %0.3f \\n\"\n",
    "        % metrics.silhouette_score(X, y_label, metric=\"sqeuclidean\"))\n"
   ]
  },
  {
   "cell_type": "code",
   "execution_count": 3,
   "metadata": {},
   "outputs": [],
   "source": [
    "# Create a folder to fetch the dataset\n",
    "iris = load_iris()"
   ]
  },
  {
   "cell_type": "code",
   "execution_count": 19,
   "metadata": {},
   "outputs": [],
   "source": [
    "X = iris.data\n",
    "y = iris.target"
   ]
  },
  {
   "cell_type": "code",
   "execution_count": 22,
   "metadata": {},
   "outputs": [
    {
     "name": "stdout",
     "output_type": "stream",
     "text": [
      "KMeans model: \n",
      "\n",
      "Estimated number of clusters: 2\n",
      "Homogeneity: 0.522\n",
      "Completeness: 0.884\n",
      "V-measure: 0.657\n",
      "Adjusted Rand Index: 0.540\n",
      "Adjusted Mutual Information: 0.654\n",
      "Silhouette Coefficient: 0.850 \n",
      "\n",
      "Estimated number of clusters: 3\n",
      "Homogeneity: 0.751\n",
      "Completeness: 0.765\n",
      "V-measure: 0.758\n",
      "Adjusted Rand Index: 0.730\n",
      "Adjusted Mutual Information: 0.755\n",
      "Silhouette Coefficient: 0.736 \n",
      "\n",
      "Estimated number of clusters: 4\n",
      "Homogeneity: 0.808\n",
      "Completeness: 0.652\n",
      "V-measure: 0.722\n",
      "Adjusted Rand Index: 0.650\n",
      "Adjusted Mutual Information: 0.717\n",
      "Silhouette Coefficient: 0.671 \n",
      "\n",
      "Estimated number of clusters: 5\n",
      "Homogeneity: 0.824\n",
      "Completeness: 0.599\n",
      "V-measure: 0.694\n",
      "Adjusted Rand Index: 0.608\n",
      "Adjusted Mutual Information: 0.687\n",
      "Silhouette Coefficient: 0.670 \n",
      "\n"
     ]
    }
   ],
   "source": [
    "print(\"KMeans model: \\n\")\n",
    "\n",
    "kmeans2 = KMeans(n_clusters=2).fit(X)\n",
    "y_labels = kmeans2.labels_\n",
    "evaluation(X, y, y_labels, 2)\n",
    "\n",
    "kmeans3 = KMeans(n_clusters=3).fit(X)\n",
    "y_labels = kmeans3.labels_\n",
    "evaluation(X, y, y_labels, 3)\n",
    "\n",
    "kmeans4 = KMeans(n_clusters=4).fit(X)\n",
    "y_labels = kmeans4.labels_\n",
    "evaluation(X, y, y_labels, 4)\n",
    "\n",
    "kmeans5 = KMeans(n_clusters=5).fit(X)\n",
    "y_labels = kmeans5.labels_\n",
    "evaluation(X, y, y_labels, 5)"
   ]
  },
  {
   "cell_type": "code",
   "execution_count": 26,
   "metadata": {},
   "outputs": [
    {
     "name": "stdout",
     "output_type": "stream",
     "text": [
      "DBSCAN model: \n",
      "\n",
      "Estimated number of clusters: 3\n",
      "Homogeneity: 0.560\n",
      "Completeness: 0.657\n",
      "V-measure: 0.604\n",
      "Adjusted Rand Index: 0.521\n",
      "Adjusted Mutual Information: 0.599\n",
      "Silhouette Coefficient: 0.637 \n",
      "\n"
     ]
    }
   ],
   "source": [
    "print(\"DBSCAN model: \\n\")\n",
    "\n",
    "dbscan = DBSCAN().fit(X)\n",
    "y_labels = dbscan.labels_\n",
    "centers = np.unique(y_labels)\n",
    "evaluation(X, y, y_labels, len(centers))"
   ]
  },
  {
   "cell_type": "code",
   "execution_count": 27,
   "metadata": {},
   "outputs": [
    {
     "name": "stdout",
     "output_type": "stream",
     "text": [
      "Hierarchical model (AgglomerativeClustering): \n",
      "\n",
      "Estimated number of clusters: 2\n",
      "Homogeneity: 0.579\n",
      "Completeness: 1.000\n",
      "V-measure: 0.734\n",
      "Adjusted Rand Index: 0.568\n",
      "Adjusted Mutual Information: 0.732\n",
      "Silhouette Coefficient: 0.847 \n",
      "\n",
      "Estimated number of clusters: 3\n",
      "Homogeneity: 0.761\n",
      "Completeness: 0.780\n",
      "V-measure: 0.770\n",
      "Adjusted Rand Index: 0.731\n",
      "Adjusted Mutual Information: 0.767\n",
      "Silhouette Coefficient: 0.735 \n",
      "\n",
      "Estimated number of clusters: 4\n",
      "Homogeneity: 0.795\n",
      "Completeness: 0.642\n",
      "V-measure: 0.710\n",
      "Adjusted Rand Index: 0.660\n",
      "Adjusted Mutual Information: 0.705\n",
      "Silhouette Coefficient: 0.653 \n",
      "\n",
      "Estimated number of clusters: 5\n",
      "Homogeneity: 0.797\n",
      "Completeness: 0.579\n",
      "V-measure: 0.671\n",
      "Adjusted Rand Index: 0.595\n",
      "Adjusted Mutual Information: 0.664\n",
      "Silhouette Coefficient: 0.657 \n",
      "\n"
     ]
    }
   ],
   "source": [
    "print(\"Hierarchical model (AgglomerativeClustering): \\n\")\n",
    "\n",
    "agg2 = AgglomerativeClustering(n_clusters=2).fit(X)\n",
    "y_labels = agg2.labels_\n",
    "evaluation(X, y, y_labels, 2)\n",
    "\n",
    "agg3 = AgglomerativeClustering(n_clusters=3).fit(X)\n",
    "y_labels = agg3.labels_\n",
    "evaluation(X, y, y_labels, 3)\n",
    "\n",
    "agg4 = AgglomerativeClustering(n_clusters=4).fit(X)\n",
    "y_labels = agg4.labels_\n",
    "evaluation(X, y, y_labels, 4)\n",
    "\n",
    "agg5 = AgglomerativeClustering(n_clusters=5).fit(X)\n",
    "y_labels = agg5.labels_\n",
    "evaluation(X, y, y_labels, 5)"
   ]
  }
 ],
 "metadata": {
  "kernelspec": {
   "display_name": "Python 3.9.12 ('py3912')",
   "language": "python",
   "name": "python3"
  },
  "language_info": {
   "codemirror_mode": {
    "name": "ipython",
    "version": 3
   },
   "file_extension": ".py",
   "mimetype": "text/x-python",
   "name": "python",
   "nbconvert_exporter": "python",
   "pygments_lexer": "ipython3",
   "version": "3.9.12"
  },
  "orig_nbformat": 4,
  "vscode": {
   "interpreter": {
    "hash": "17a0ac770ab13e08335db578e926bdd3f4652452895a95369bef5274edbda421"
   }
  }
 },
 "nbformat": 4,
 "nbformat_minor": 2
}
